{
 "cells": [
  {
   "cell_type": "code",
   "execution_count": 1,
   "metadata": {
    "id": "4lIEethlcM5H"
   },
   "outputs": [],
   "source": [
    "import cv2\n",
    "import os\n",
    "from tqdm import tqdm\n",
    "import numpy as np\n",
    "import matplotlib.pyplot as plt\n",
    "import random"
   ]
  },
  {
   "cell_type": "code",
   "execution_count": 67,
   "metadata": {
    "id": "MTL98COLcSlT"
   },
   "outputs": [],
   "source": [
    "DEFAULT_BACKGROUND_COLOUR = 250\n",
    "CHANNELS = 3\n",
    "VAR = 9\n",
    "\n",
    "class PaperGeneration:\n",
    "    def __init__(self, width, height, colour = DEFAULT_BACKGROUND_COLOUR, channels = CHANNELS, var = VAR):\n",
    "        self.colour = colour\n",
    "        self.var = var\n",
    "        self.channels = channels\n",
    "        pure_paper = self.create_paper(width, height)\n",
    "        textured_paper = self.add_texture(pure_paper)\n",
    "        self.noised_textured_paper = self.add_noise(textured_paper)\n",
    "\n",
    "    def create_paper(self, height, width):\n",
    "        image = np.full((height, width, self.channels), self.colour, dtype=np.uint8)\n",
    "        return image\n",
    "\n",
    "    def add_texture(self, image):\n",
    "        texture = cv2.imread('/home/arsen/Textures/texture' + str(random.randint(1,3)) + '.png')\n",
    "        texture = cv2.resize(texture, (image.shape[1], image.shape[0]))\n",
    "        weight1 = random.uniform(0.3,0.6)\n",
    "        weight2 = 1 - weight1\n",
    "        textured_image = cv2.addWeighted(image, weight1, texture, weight2, 0, dtype=cv2.CV_32F)\n",
    "        return textured_image\n",
    "\n",
    "    def add_noise(self, image, mean=0, ratio=1):\n",
    "        width, height, channels = image.shape\n",
    "        new_height = int(height / ratio)\n",
    "        new_width = int(width / ratio)\n",
    "        mask = np.random.normal(mean, self.var**0.5, (new_width, new_height, self.channels))\n",
    "        if ratio > 1:\n",
    "            mask = cv2.resize(mask, dsize=(width, height), interpolation=cv2.INTER_LINEAR)\n",
    "        image = image + mask.reshape((width, height, CHANNELS))\n",
    "        return np.clip(image, 0, 255)\n",
    "\n",
    "    def get_image(self):\n",
    "        return self.noised_textured_paper\n",
    "\n"
   ]
  },
  {
   "cell_type": "code",
   "execution_count": null,
   "metadata": {
    "colab": {
     "base_uri": "https://localhost:8080/"
    },
    "id": "4MBgM9LLKuT-",
    "outputId": "3d97f171-7e74-4696-bcde-0df5340c4e34"
   },
   "outputs": [],
   "source": []
  },
  {
   "cell_type": "code",
   "execution_count": 90,
   "metadata": {
    "colab": {
     "base_uri": "https://localhost:8080/"
    },
    "id": "FcU031RQHLSG",
    "outputId": "897c1864-6ac1-4f32-e994-3e2ebda46336"
   },
   "outputs": [],
   "source": [
    "paper_gen = PaperGeneration(width=4096, height=4096)\n",
    "paper = paper_gen.get_image()"
   ]
  },
  {
   "cell_type": "code",
   "execution_count": 133,
   "metadata": {},
   "outputs": [],
   "source": [
    "class ImageAugmentation:\n",
    "    def __init__(self, paper, channel_shift, translation_shift, rotation_angle, blur_max_kernel):\n",
    "        self.paper = paper\n",
    "        self.value = channel_shift\n",
    "        self.shift = translation_shift\n",
    "        self.rotation_angle = rotation_angle\n",
    "        self.kernel = blur_max_kernel\n",
    "        background_path = '/home/arsen/Backgrounds/background' + str(np.random.randint(1, 4)) + '.png'\n",
    "        self.background_image = cv2.imread(background_path)\n",
    "        \n",
    "    def scale(self, image, scale):\n",
    "        dim = (int(image.shape[1] * scale), int(image.shape[0] * scale))\n",
    "        image = cv2.resize(image, dim, interpolation = cv2.INTER_AREA)\n",
    "        return image\n",
    "    \n",
    "    def channel_shift(self, imаgе):\n",
    "        value = int(np.random.uniform(-self.value, self.value))\n",
    "        imаgе = np.clip(imаgе + value, 0, 255).astype(np.uint8)\n",
    "        return imаgе\n",
    "    \n",
    "    def translation(self, image):\n",
    "        h, w = image.shape[:2]\n",
    "        w_shift = int(np.random.uniform(-self.shift, self.shift))\n",
    "        h_shift = int(np.random.uniform(-self.shift, self.shift))\n",
    "        M = np.array([[1, 0, w_shift], [0, 1, h_shift]], dtype=np.float32)\n",
    "        image = cv2.warpAffine(image, M, (w, h), borderValue = (1, 1, 1))\n",
    "        return image\n",
    "    \n",
    "    def rotation(self, image):\n",
    "        angle = int(np.random.uniform(-self.rotation_angle, self.rotation_angle))\n",
    "        h, w = image.shape[:2]\n",
    "        M = cv2.getRotationMatrix2D((int(w/2), int(h/2)), angle, 1)\n",
    "        image = cv2.warpAffine(image, M, (w, h), borderValue=(1, 1, 1))\n",
    "        return image\n",
    "    \n",
    "    def blur(self, image):\n",
    "        kernel = np.random.randint(1, self.kernel)\n",
    "        return cv2.blur(image, (kernel, kernel))\n",
    "    \n",
    "    def put_image_on_paper(self, image, paper):\n",
    "        mask = np.zeros_like(image)\n",
    "        mask[:, :, 0] = mask[:, :, 1] = mask[:, :, 2] = (image[:, :, 0] == 255) * (image[:, :, 1] == 255) * (image[:, :, 2] == 255)\n",
    "        mask = mask.astype(bool)\n",
    "        return paper[:image.shape[0], :image.shape[1]] * mask + image * ~mask\n",
    "    \n",
    "    def put_image_on_background(self, image, background):\n",
    "        mask = np.zeros_like(image)\n",
    "        mask[:, :, 0] = mask[:, :, 1] = mask[:, :, 2] = (image[:, :, 0] == 1) * (image[:, :, 1] == 1) * (image[:, :, 2] == 1)\n",
    "        mask = mask.astype(bool)\n",
    "        return background * mask + image * ~mask\n",
    "    \n",
    "    def print_defect(self, imаgе):\n",
    "        shifted_rows = np.random.binomial(1, 0.01, imаgе.shape[0])\n",
    "        for i, shifted in enumerate(shifted_rows):\n",
    "            if shifted:\n",
    "                shift = random.randint(-25, 25)\n",
    "                imаgе[i] = np.roll(imаgе[i], shift, axis=0)\n",
    "        return imаgе\n",
    "    \n",
    "    def augmentate(self, image):\n",
    "        new_background = self.scale(self.background_image, 2)\n",
    "        new_image = self.scale(image, np.random.uniform(0.3, 0.7))\n",
    "        image_on_paper = self.put_image_on_paper(new_image, paper)\n",
    "        new_image = self.print_defect(image_on_paper)\n",
    "        trick = np.ones_like(new_background)\n",
    "        trick[500:500 + new_image.shape[0], 500:500 + new_image.shape[1]] = new_image\n",
    "        new_image = self.translation(self.rotation(trick))\n",
    "        image_on_background = self.put_image_on_background(new_image,new_background)\n",
    "        return self.blur(image_on_background)"
   ]
  },
  {
   "cell_type": "code",
   "execution_count": 136,
   "metadata": {},
   "outputs": [
    {
     "name": "stderr",
     "output_type": "stream",
     "text": [
      "100% 10/10 [01:05<00:00,  6.55s/it]\n"
     ]
    }
   ],
   "source": [
    "os.mkdir('/home/arsen/Output_dir')\n",
    "for file in tqdm(os.listdir('/home/arsen/Images')):\n",
    "    image = cv2.imread('/home/arsen/Images/' + file)\n",
    "    for num in range(10):\n",
    "        aug = ImageAugmentation(paper,60,500,45,10)\n",
    "        cv2.imwrite('/home/arsen/Output_dir/' + file[:-4]+ '_' + str(num) + '.png', aug.augmentate(image))"
   ]
  }
 ],
 "metadata": {
  "colab": {
   "provenance": []
  },
  "kernelspec": {
   "display_name": "Python 3 (ipykernel)",
   "language": "python",
   "name": "python3"
  },
  "language_info": {
   "codemirror_mode": {
    "name": "ipython",
    "version": 3
   },
   "file_extension": ".py",
   "mimetype": "text/x-python",
   "name": "python",
   "nbconvert_exporter": "python",
   "pygments_lexer": "ipython3",
   "version": "3.8.10"
  }
 },
 "nbformat": 4,
 "nbformat_minor": 4
}
